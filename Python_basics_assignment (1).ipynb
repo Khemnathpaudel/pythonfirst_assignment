{
  "nbformat": 4,
  "nbformat_minor": 0,
  "metadata": {
    "colab": {
      "provenance": []
    },
    "kernelspec": {
      "name": "python3",
      "display_name": "Python 3"
    },
    "language_info": {
      "name": "python"
    }
  },
  "cells": [
    {
      "cell_type": "code",
      "execution_count": null,
      "metadata": {
        "id": "Q1A9PHwSeBt7"
      },
      "outputs": [],
      "source": [
        "#1.Explain the key features of Python that make a popular choice for programming?"
      ]
    },
    {
      "cell_type": "code",
      "source": [
        "# ans: The key features that makes a python popular choice for programming are:\n",
        "# Readablity: easy to read and understand comparitive to other languages\n",
        "# Libraries: It has extensive stand libraries\n",
        "# Integration:Easily integrates with other programming languages and much more."
      ],
      "metadata": {
        "id": "J5Pj8d_xezgT"
      },
      "execution_count": null,
      "outputs": []
    },
    {
      "cell_type": "code",
      "source": [
        "#2. Describe the role of predefined keywords in python and provide examples of how they are used in python?\n"
      ],
      "metadata": {
        "id": "kv3aaE2TezsT"
      },
      "execution_count": null,
      "outputs": []
    },
    {
      "cell_type": "code",
      "source": [
        "# ans: Predefined keywords in pythom are reserved words that have special meaning and built to perform speicific tasks.\n",
        "# examples are if, for def, print etc..\n",
        "# task can be be performed like: for printing first 10 natural number using for loop\n",
        "for i in range(1,11):\n",
        "  print(i)\n"
      ],
      "metadata": {
        "colab": {
          "base_uri": "https://localhost:8080/"
        },
        "id": "_hgUPICXez6h",
        "outputId": "4401bd02-ea49-491a-c8c8-e38f99dc0628"
      },
      "execution_count": null,
      "outputs": [
        {
          "output_type": "stream",
          "name": "stdout",
          "text": [
            "1\n",
            "2\n",
            "3\n",
            "4\n",
            "5\n",
            "6\n",
            "7\n",
            "8\n",
            "9\n",
            "10\n"
          ]
        }
      ]
    },
    {
      "cell_type": "code",
      "source": [
        "# 3.Compare and contrast mutable and immutable objects in python with examples?\n"
      ],
      "metadata": {
        "id": "O-4Vc0gbhKrx"
      },
      "execution_count": null,
      "outputs": []
    },
    {
      "cell_type": "code",
      "source": [
        "# ans: Mutable objects in python can be changed after creation while immutable objects cannot be changed after creation\n",
        "# example: mutable: list ,list=[1,2,3,4] allows list[0]=4\n",
        "# immutabel: tuple, tup=(0,1,23,4),doesn't allow tup[0]=5"
      ],
      "metadata": {
        "id": "lO0_osvihKuO"
      },
      "execution_count": null,
      "outputs": []
    },
    {
      "cell_type": "code",
      "source": [
        "#4. Explain the different types of operators in python and provide examples of how they are used?"
      ],
      "metadata": {
        "id": "Ol-S_zpJhKz4"
      },
      "execution_count": null,
      "outputs": []
    },
    {
      "cell_type": "code",
      "source": [
        "\n",
        "# The different types of operators in python include:\n",
        "#1.Arithmetic operatores: to perform mathematical operations such as addition, substraction etc.\n",
        "# Example: (a+b),(a-b)etc\n",
        "#2.Comarision operators: compare the values of\n",
        "#Example: a==c\n",
        "#3. Logical operators: combine conditional statements.\n",
        "#Example:a and b\n",
        "#4.Bitwise operators: operate on binary numbers.\n",
        "#Example: a & b (bitwise AND)\n",
        "#5.Assignment operators: Assign values to variables\n",
        "#Example: a=+b(it add the value of b on a and assigns the value to b)\n",
        "#6.Membership operators: Test membership in a Sequence\n",
        "#Example:a in b (checking whehter a belongs to blue)\n",
        "#7.Identity operators: compare object identities\n",
        "#Example: a is b\n",
        "#each type of operators perform specific funtion varying from basic calculations to advanced logic and data manuplation\n",
        "\n",
        "\n",
        "\n",
        "\n"
      ],
      "metadata": {
        "id": "pwKczOdkhK2a"
      },
      "execution_count": null,
      "outputs": []
    },
    {
      "cell_type": "markdown",
      "source": [],
      "metadata": {
        "id": "8yV4kvL1oOAE"
      }
    },
    {
      "cell_type": "code",
      "source": [
        "#5. Explain the concept of type casting in python with exaples?"
      ],
      "metadata": {
        "id": "wzBFn6CvhK6q"
      },
      "execution_count": null,
      "outputs": []
    },
    {
      "cell_type": "code",
      "source": [
        "# ans: Type casting is the process of converting one type of datatype to another type.\n",
        "# for example: converting a=str('123') into int(a) and convering float(43.7) into integer datatype int(43.7)"
      ],
      "metadata": {
        "id": "8QlzzvHNorrz"
      },
      "execution_count": null,
      "outputs": []
    },
    {
      "cell_type": "code",
      "source": [
        "#6.How do conditional statement work in Python? Illustrate with examples?"
      ],
      "metadata": {
        "id": "cu5t7_IYortt"
      },
      "execution_count": null,
      "outputs": []
    },
    {
      "cell_type": "code",
      "source": [
        "#Ans:Condtional statement in python excute on particular block of code by checking the condtion whether it is ture or false:\n",
        "# this basic includes if, else, elif\n",
        "# exaple:\n",
        "x=int(input('enter any number:'))\n",
        "if x > 0:\n",
        "    printp(\"Positive\")\n",
        "elif x == 0:\n",
        "    print(\"Zero\")\n",
        "else:\n",
        "    print(\"Negative\")\n"
      ],
      "metadata": {
        "colab": {
          "base_uri": "https://localhost:8080/"
        },
        "id": "St0ce1ydoryZ",
        "outputId": "217973bd-8c58-4571-815e-910e1c8b4515"
      },
      "execution_count": null,
      "outputs": [
        {
          "output_type": "stream",
          "name": "stdout",
          "text": [
            "enter any number:5\n",
            "Positive\n"
          ]
        }
      ]
    },
    {
      "cell_type": "code",
      "source": [
        "#7.Describe the different types of loops in Python and their use cases with examples?"
      ],
      "metadata": {
        "id": "q7IQ6Fa_or0T"
      },
      "execution_count": null,
      "outputs": []
    },
    {
      "cell_type": "code",
      "source": [
        "# The different types of loops used in python are foor loop and while loop:\n",
        "# for loop :operates over a sequence with specific condition\n",
        " # Example:display first 5 natural number using for loop\n",
        "for i in range(1,6):\n",
        "  print(i)\n",
        "#while loop:Repeats untill specific condition is true\n",
        "# Example:display first 5 natural number using while loop\n",
        "while x<6:\n",
        "  print(x)\n",
        "  x+=1"
      ],
      "metadata": {
        "colab": {
          "base_uri": "https://localhost:8080/"
        },
        "id": "FtIYO7B_or46",
        "outputId": "be9a365a-35f7-4607-e386-ddad84a97e7d"
      },
      "execution_count": null,
      "outputs": [
        {
          "output_type": "stream",
          "name": "stdout",
          "text": [
            "1\n",
            "2\n",
            "3\n",
            "4\n",
            "5\n",
            "5\n"
          ]
        }
      ]
    },
    {
      "cell_type": "code",
      "source": [],
      "metadata": {
        "id": "02EtwR6zor61"
      },
      "execution_count": null,
      "outputs": []
    },
    {
      "cell_type": "code",
      "source": [],
      "metadata": {
        "id": "DsTFXwQ_or-_"
      },
      "execution_count": null,
      "outputs": []
    },
    {
      "cell_type": "code",
      "source": [],
      "metadata": {
        "id": "YEkhoUBhosB5"
      },
      "execution_count": null,
      "outputs": []
    }
  ]
}